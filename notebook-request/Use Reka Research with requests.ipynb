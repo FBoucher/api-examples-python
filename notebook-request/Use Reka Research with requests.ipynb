{
 "cells": [
  {
   "cell_type": "markdown",
   "id": "c354ab14",
   "metadata": {},
   "source": [
    "# Get started with Reka Research\n",
    "Let’s learn how to use the Reka Research.\n",
    "\n",
    "In this example, we’ll have Reka Research find up-to-date IRS tax-compliance regulations and guidance.\n",
    "\n",
    "To run this example, you'll need an Reka AI account and associated API key ([create a free account here](platform.reka.ai)). Set an environment variable called REKA_API_KEY with your API key."
   ]
  },
  {
   "cell_type": "markdown",
   "id": "c0272e4b",
   "metadata": {},
   "source": [
    "## Set your API key"
   ]
  },
  {
   "cell_type": "code",
   "execution_count": 1,
   "id": "c13e3fa0",
   "metadata": {},
   "outputs": [],
   "source": [
    "import requests\n",
    "import json\n",
    "import os\n",
    "\n",
    "# Replace this with your actual Reka API key\n",
    "API_KEY = os.environ.get(\"REKA_API_KEY\", \"your_api_key_here\")"
   ]
  },
  {
   "cell_type": "markdown",
   "id": "49ef7772",
   "metadata": {},
   "source": [
    "## Call the API"
   ]
  },
  {
   "cell_type": "code",
   "execution_count": null,
   "id": "8062b28a",
   "metadata": {},
   "outputs": [],
   "source": [
    "try:\n",
    "    response = requests.post(\n",
    "        url=\"https://api.reka.ai/v1/chat/completions\", \n",
    "        headers={\n",
    "            \"Authorization\": f\"Bearer {API_KEY}\",\n",
    "            \"Content-Type\": \"application/json\"\n",
    "        }, \n",
    "        json={\n",
    "            \"model\": \"reka-flash-research\",\n",
    "            \"messages\": [\n",
    "                {\n",
    "                    \"role\": \"user\",\n",
    "                    \"content\": (\n",
    "                        \"Check for new or updated IRS tax-compliance regulations or guidance issued in the past 7 days.\\n\\n\"\n",
    "                        \"List:\\n- Title of update\\n- Date issued\\n- Summary of key changes\\n- Link to official IRS source\"\n",
    "                    )\n",
    "                    \n",
    "                }\n",
    "            ],\n",
    "        }\n",
    "    )\n",
    "    response.raise_for_status()\n",
    "    result = response.json()\n",
    "except requests.exceptions.RequestException as e:\n",
    "    print(f\"Error making API request: {str(e)}\")\n",
    "except (KeyError, IndexError) as e:\n",
    "    print(f\"Error parsing API response: {str(e)}\")\n",
    "except Exception as e:\n",
    "    print(f\"Unexpected error: {str(e)}\")"
   ]
  },
  {
   "cell_type": "code",
   "execution_count": 3,
   "id": "2eeb1f5f",
   "metadata": {},
   "outputs": [
    {
     "name": "stdout",
     "output_type": "stream",
     "text": [
      "Thought: Searching for recent IRS tax updates from the past week to identify new/regulations with effective dates and key changes.\n",
      "Tool Call: search_web with arguments\n",
      "{\n",
      "  \"query\": \"IRS tax updates past 7 days\"\n",
      "}\n",
      "Thought: Analyze IRS newsroom and current-month releases to identify recent tax regulations/guidance from the past 7 days.\n",
      "Tool Call: analyze with arguments\n",
      "{\n",
      "  \"urls\": [\n",
      "    \"https://www.irs.gov/newsroom/tax-updates-and-news-from-the-irs\",\n",
      "    \"https://www.irs.gov/newsroom/news-releases-for-current-month\"\n",
      "  ],\n",
      "  \"task\": \"Extract Title, Date issued (within 7 days), Summary of key changes, and Link to official IRS source for each update.\"\n",
      "}\n",
      "Response:\n",
      "Here are the IRS tax-compliance updates from the past 7 days (May 23–30, 2025):\n",
      "\n",
      "1. **Title**: IRS Improves Pre-Filing Agreement Program for Large Business and International Taxpayers  \n",
      "   **Date Issued**: June 17, 2025  \n",
      "   **Summary**: The IRS expanded the Pre-Filing Agreement (PFA) program to enhance tax certainty for large businesses and international taxpayers.  \n",
      "   **Link**: [irs.gov](https://www.irs.gov/newsroom/news-releases-for-current-month)\n",
      "\n",
      "2. **Title**: IRS Provides Transition Relief for Digital Asset Brokers  \n",
      "   **Date Issued**: June 12, 2025  \n",
      "   **Summary**: Notice 2025-33 extends relief for brokers filing Form 1099-DA for digital asset transactions.  \n",
      "   **Link**: [irs.gov](https://www.irs.gov/newsroom/news-releases-for-current-month)\n",
      "\n",
      "3. **Title**: IRS Reminds Taxpayers of Second Quarter Estimated Tax Deadline  \n",
      "   **Date Issued**: June 6, 2025  \n",
      "   **Summary**: The second quarter 2025 estimated tax payment deadline is June 16.  \n",
      "   **Link**: [irs.gov](https://www.irs.gov/newsroom/news-releases-for-current-month)\n",
      "\n",
      "4. **Title**: IRS Updates Standard Mileage Rates for 2024  \n",
      "   **Date Issued**: May 29, 2025  \n",
      "   **Summary**: The business mileage rate increased to 67 cents per mile for 2024.  \n",
      "   **Link**: [irs.gov](https://www.irs.gov/newsroom/tax-updates-and-news-from-the-irs)\n",
      "\n",
      "5. **Title**: Employee Retention Credit Claim Resolution Deadline  \n",
      "   **Date Issued**: May 29, 2025  \n",
      "   **Summary**: Businesses claiming the Employee Retention Credit after April 15, 2025, must resolve discrepancies by reviewing IRS resources.  \n",
      "   **Link**: [irs.gov](https://www.irs.gov/newsroom/tax-updates-and-news-from-the-irs)\n",
      "\n",
      "All updates are sourced directly from the IRS newsroom and are current as of May 30, 2025.\n"
     ]
    }
   ],
   "source": [
    "for choice in result.get(\"choices\", []):\n",
    "    message = choice.get(\"message\", {})\n",
    "\n",
    "    # Print the reasoning steps to understand how the model arrived at its response\n",
    "    for reasoning_step in message.get(\"reasoning_steps\", []):\n",
    "        # Reka Research return its reasoning and tool calls in the reasoning_steps\n",
    "        if reasoning_step.get(\"role\") == \"assistant\":\n",
    "            print(f\"Thought: {reasoning_step.get('reasoning_content', '')}\")\n",
    "        if reasoning_step.get(\"tool_calls\"):\n",
    "            for tool_call in reasoning_step.get(\"tool_calls\", []):\n",
    "                tool_args = json.dumps(tool_call.get('args', {}), indent=2)\n",
    "                print(f\"Tool Call: {tool_call.get('name', '')} with arguments\\n{tool_args}\")\n",
    "    \n",
    "    # Print the response from the content\n",
    "    content = message.get(\"content\", \"\")\n",
    "    if content:\n",
    "        print(f\"Response:\\n{content}\")"
   ]
  }
 ],
 "metadata": {
  "kernelspec": {
   "display_name": "py312",
   "language": "python",
   "name": "python3"
  },
  "language_info": {
   "codemirror_mode": {
    "name": "ipython",
    "version": 3
   },
   "file_extension": ".py",
   "mimetype": "text/x-python",
   "name": "python",
   "nbconvert_exporter": "python",
   "pygments_lexer": "ipython3",
   "version": "3.12.8"
  }
 },
 "nbformat": 4,
 "nbformat_minor": 5
}
