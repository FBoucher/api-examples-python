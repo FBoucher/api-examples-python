{
 "cells": [
  {
   "cell_type": "markdown",
   "id": "c354ab14",
   "metadata": {},
   "source": [
    "# Get started with Reka Research\n",
    "Let’s learn how to use the Reka Research.\n",
    "\n",
    "In this example, we’ll have Reka Research find up-to-date IRS tax-compliance regulations and guidance.\n",
    "\n",
    "To run this example, you'll need an Reka AI account and associated API key ([create a free account here](platform.reka.ai)). Set an environment variable called REKA_API_KEY with your API key."
   ]
  },
  {
   "cell_type": "markdown",
   "id": "c0272e4b",
   "metadata": {},
   "source": [
    "## Set your API key"
   ]
  },
  {
   "cell_type": "code",
   "execution_count": 1,
   "id": "c13e3fa0",
   "metadata": {},
   "outputs": [],
   "source": [
    "import json\n",
    "import os\n",
    "from openai import OpenAI\n",
    "\n",
    "# Replace this with your actual Reka API key\n",
    "API_KEY = os.getenv(\"REKA_API_KEY\", \"your_api_key_here\")"
   ]
  },
  {
   "cell_type": "markdown",
   "id": "49ef7772",
   "metadata": {},
   "source": [
    "## Call the API"
   ]
  },
  {
   "cell_type": "code",
   "execution_count": null,
   "id": "8062b28a",
   "metadata": {},
   "outputs": [],
   "source": [
    "# Set the OpenAI client to use the Reka API endpoint\n",
    "client = OpenAI(\n",
    "    base_url=\"https://api.reka.ai/v1\",\n",
    "    api_key=API_KEY\n",
    ")\n",
    "\n",
    "# Create a chat completion request to check for IRS tax-compliance updates\n",
    "completion = client.chat.completions.create(\n",
    "    model=\"reka-flash-research\",\n",
    "    messages=[\n",
    "        {\n",
    "            \"role\": \"user\",\n",
    "            \"content\": (\n",
    "                \"Check for new or updated IRS tax-compliance regulations or guidance issued in the past 7 days.\\n\\n\"\n",
    "                \"List:\\n- Title of update\\n- Date issued\\n- Summary of key changes\\n- Link to official IRS source\"\n",
    "            )\n",
    "        },\n",
    "    ],\n",
    ")"
   ]
  },
  {
   "cell_type": "code",
   "execution_count": 3,
   "id": "2eeb1f5f",
   "metadata": {},
   "outputs": [
    {
     "name": "stdout",
     "output_type": "stream",
     "text": [
      "Thought: Searching for recent IRS tax updates from the past 7 days to identify new/changed regulations.\n",
      "Tool Call: search_web with arguments\n",
      "{\n",
      "  \"query\": \"IRS tax updates past 7 days\"\n",
      "}\n",
      "Thought: Analyze IRS newsroom and recent releases to identify updates from the past 7 days.\n",
      "Tool Call: analyze with arguments\n",
      "{\n",
      "  \"urls\": [\n",
      "    \"https://www.irs.gov/newsroom/tax-updates-and-news-from-the-irs\",\n",
      "    \"https://www.irs.gov/newsroom/news-releases-for-current-month\"\n",
      "  ],\n",
      "  \"task\": \"Extract titles, dates (within past 7 days), key changes, and official links of IRS tax regulations/guidance updates.\"\n",
      "}\n",
      "Thought: Analyze IRS changes to forms page to find recent technical updates or regulatory changes from the past week.\n",
      "Tool Call: analyze with arguments\n",
      "{\n",
      "  \"urls\": [\n",
      "    \"https://www.irs.gov/forms-pubs/changes-to-current-forms-publications\"\n",
      "  ],\n",
      "  \"task\": \"Extract titles, dates (within past 7 days), key changes, and official links of IRS tax form/publication updates.\"\n",
      "}\n",
      "Response:\n",
      "Here are IRS tax-compliance updates from the past 7 days (June 12–19, 2025):\n",
      "\n",
      "1. **Title**: IRS improves Pre-Filing Agreement tax certainty program for large business and international taxpayers  \n",
      "   - **Date Issued**: June 17, 2025  \n",
      "   - **Summary**: The IRS announced improvements to its Pre-Filing Agreement (PFA) program to enhance tax certainty for large business and international taxpayers.  \n",
      "   - **Link**: [irs.gov](https://www.irs.gov/newsroom/news-releases-for-current-month)  \n",
      "\n",
      "2. **Title**: IRS provides additional transition relief for brokers reporting digital asset sales  \n",
      "   - **Date Issued**: June 12, 2025  \n",
      "   - **Summary**: The IRS issued Notice 2025-33, extending relief for brokers required to file Form 1099-DA for digital asset transactions.  \n",
      "   - **Link**: [irs.gov](https://www.irs.gov/newsroom/news-releases-for-current-month)  \n",
      "\n",
      "No other updates from the past 7 days were found in reviewed sources.\n"
     ]
    }
   ],
   "source": [
    "for choice in completion.choices:\n",
    "    message = choice.message\n",
    "    \n",
    "    # Print the reasoning steps to understand how the model arrived at its response\n",
    "    for reasoning_step in message.reasoning_steps:\n",
    "        # Reka Research return its reasoning and tool calls in the reasoning_steps\n",
    "        if reasoning_step[\"role\"] == \"assistant\":\n",
    "            print(f\"Thought: {reasoning_step['reasoning_content']}\")\n",
    "        if reasoning_step[\"tool_calls\"]:\n",
    "            for tool_call in reasoning_step[\"tool_calls\"]:\n",
    "                tool_args = json.dumps(tool_call[\"args\"], indent=2)\n",
    "                print(f\"Tool Call: {tool_call['name']} with arguments\\n{tool_args}\")\n",
    "    \n",
    "    # Print the response from the content\n",
    "    content = message.content\n",
    "    if content:\n",
    "        print(f\"Response:\\n{content}\")"
   ]
  }
 ],
 "metadata": {
  "kernelspec": {
   "display_name": "py312",
   "language": "python",
   "name": "python3"
  },
  "language_info": {
   "codemirror_mode": {
    "name": "ipython",
    "version": 3
   },
   "file_extension": ".py",
   "mimetype": "text/x-python",
   "name": "python",
   "nbconvert_exporter": "python",
   "pygments_lexer": "ipython3",
   "version": "3.12.8"
  }
 },
 "nbformat": 4,
 "nbformat_minor": 5
}
